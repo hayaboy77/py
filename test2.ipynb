{
 "cells": [
  {
   "cell_type": "code",
   "execution_count": 1,
   "id": "9a3b4e7c",
   "metadata": {},
   "outputs": [
    {
     "name": "stdout",
     "output_type": "stream",
     "text": [
      "hi\n"
     ]
    }
   ],
   "source": [
    "print(\"hi\")"
   ]
  },
  {
   "cell_type": "code",
   "execution_count": 2,
   "id": "a8f922e2",
   "metadata": {},
   "outputs": [
    {
     "name": "stdout",
     "output_type": "stream",
     "text": [
      "hihihi"
     ]
    }
   ],
   "source": [
    "for i in range(3):\n",
    "    print(\"hi\", end='')"
   ]
  },
  {
   "cell_type": "code",
   "execution_count": 3,
   "id": "c47b32e9",
   "metadata": {},
   "outputs": [
    {
     "data": {
      "text/plain": [
       "str"
      ]
     },
     "execution_count": 3,
     "metadata": {},
     "output_type": "execute_result"
    }
   ],
   "source": [
    "type(\"hi\")"
   ]
  },
  {
   "cell_type": "code",
   "execution_count": 5,
   "id": "2c16b09e",
   "metadata": {},
   "outputs": [],
   "source": [
    "# help(\"\")"
   ]
  },
  {
   "cell_type": "code",
   "execution_count": 6,
   "id": "c57b038a",
   "metadata": {},
   "outputs": [],
   "source": [
    "# iterable\n",
    "#[] {} () \"\""
   ]
  },
  {
   "cell_type": "code",
   "execution_count": 7,
   "id": "3f94c6b9",
   "metadata": {},
   "outputs": [],
   "source": [
    "# for i in iterable"
   ]
  },
  {
   "cell_type": "code",
   "execution_count": 8,
   "id": "659355dd",
   "metadata": {},
   "outputs": [],
   "source": [
    "# 딕셔너리 데이터 타입 으로 데이터 정의하시고 for문으로 뽑아보세요"
   ]
  },
  {
   "cell_type": "code",
   "execution_count": 10,
   "id": "fd4feb0e",
   "metadata": {},
   "outputs": [
    {
     "name": "stdout",
     "output_type": "stream",
     "text": [
      "1\n",
      "2\n"
     ]
    }
   ],
   "source": [
    "for k in {1:'apple',2:'banana'}:\n",
    "    print(k)"
   ]
  },
  {
   "cell_type": "code",
   "execution_count": 11,
   "id": "8ff687a2",
   "metadata": {},
   "outputs": [],
   "source": [
    "di={1:'apple',2:'banana'}"
   ]
  },
  {
   "cell_type": "code",
   "execution_count": 12,
   "id": "e9a70fc4",
   "metadata": {},
   "outputs": [
    {
     "data": {
      "text/plain": [
       "dict_items([(1, 'apple'), (2, 'banana')])"
      ]
     },
     "execution_count": 12,
     "metadata": {},
     "output_type": "execute_result"
    }
   ],
   "source": [
    "di.items()"
   ]
  },
  {
   "cell_type": "code",
   "execution_count": 13,
   "id": "bf765c56",
   "metadata": {},
   "outputs": [
    {
     "name": "stdout",
     "output_type": "stream",
     "text": [
      "hi\n"
     ]
    }
   ],
   "source": [
    "if True:\n",
    "    print(\"hi\")"
   ]
  },
  {
   "cell_type": "code",
   "execution_count": 14,
   "id": "c9f8a3d2",
   "metadata": {},
   "outputs": [
    {
     "name": "stdout",
     "output_type": "stream",
     "text": [
      "hi\n"
     ]
    }
   ],
   "source": [
    "if True:\n",
    "    print(\"hi\")\n",
    "else:\n",
    "    print(\"not\")"
   ]
  },
  {
   "cell_type": "code",
   "execution_count": 15,
   "id": "42eff127",
   "metadata": {},
   "outputs": [
    {
     "name": "stdout",
     "output_type": "stream",
     "text": [
      "not\n"
     ]
    }
   ],
   "source": [
    "if False:\n",
    "    print(\"hi\")\n",
    "else:\n",
    "    print(\"not\")"
   ]
  },
  {
   "cell_type": "code",
   "execution_count": 16,
   "id": "0c857e84",
   "metadata": {},
   "outputs": [],
   "source": [
    "score=90"
   ]
  },
  {
   "cell_type": "code",
   "execution_count": 17,
   "id": "b9238e7b",
   "metadata": {},
   "outputs": [
    {
     "name": "stdout",
     "output_type": "stream",
     "text": [
      "A\n"
     ]
    }
   ],
   "source": [
    "if score>=90:\n",
    "    print(\"A\")\n",
    "elif score>=80:\n",
    "    print(\"B\")\n",
    "else:\n",
    "    print(\"C\")"
   ]
  },
  {
   "cell_type": "code",
   "execution_count": 18,
   "id": "eaaad89d",
   "metadata": {},
   "outputs": [
    {
     "name": "stdout",
     "output_type": "stream",
     "text": [
      "1\n",
      "hi\n",
      "5.0\n",
      "True\n"
     ]
    }
   ],
   "source": [
    "for i in [1,'hi',5.0, True]:\n",
    "    print(i)"
   ]
  },
  {
   "cell_type": "code",
   "execution_count": null,
   "id": "cdef9841",
   "metadata": {},
   "outputs": [],
   "source": []
  }
 ],
 "metadata": {
  "kernelspec": {
   "display_name": "base",
   "language": "python",
   "name": "python3"
  },
  "language_info": {
   "codemirror_mode": {
    "name": "ipython",
    "version": 3
   },
   "file_extension": ".py",
   "mimetype": "text/x-python",
   "name": "python",
   "nbconvert_exporter": "python",
   "pygments_lexer": "ipython3",
   "version": "3.13.5"
  }
 },
 "nbformat": 4,
 "nbformat_minor": 5
}
