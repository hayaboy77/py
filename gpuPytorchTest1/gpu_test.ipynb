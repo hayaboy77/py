{
 "cells": [
  {
   "cell_type": "code",
   "execution_count": 1,
   "id": "d30f8651",
   "metadata": {},
   "outputs": [
    {
     "name": "stdout",
     "output_type": "stream",
     "text": [
      "Looking in indexes: https://download.pytorch.org/whl/cu118\n",
      "Requirement already satisfied: torch in c:\\users\\601-t\\.conda\\envs\\pytorch_env\\lib\\site-packages (1.13.1+cu117)\n",
      "Requirement already satisfied: torchvision in c:\\users\\601-t\\.conda\\envs\\pytorch_env\\lib\\site-packages (0.14.1+cu117)\n",
      "Requirement already satisfied: torchaudio in c:\\users\\601-t\\.conda\\envs\\pytorch_env\\lib\\site-packages (0.13.1+cu117)\n",
      "Requirement already satisfied: typing-extensions in c:\\users\\601-t\\.conda\\envs\\pytorch_env\\lib\\site-packages (from torch) (4.7.1)\n",
      "Requirement already satisfied: numpy in c:\\users\\601-t\\.conda\\envs\\pytorch_env\\lib\\site-packages (from torchvision) (1.21.6)\n",
      "Requirement already satisfied: pillow!=8.3.*,>=5.3.0 in c:\\users\\601-t\\.conda\\envs\\pytorch_env\\lib\\site-packages (from torchvision) (9.5.0)\n",
      "Requirement already satisfied: requests in c:\\users\\601-t\\.conda\\envs\\pytorch_env\\lib\\site-packages (from torchvision) (2.31.0)\n",
      "Requirement already satisfied: charset-normalizer<4,>=2 in c:\\users\\601-t\\.conda\\envs\\pytorch_env\\lib\\site-packages (from requests->torchvision) (3.4.3)\n",
      "Requirement already satisfied: idna<4,>=2.5 in c:\\users\\601-t\\.conda\\envs\\pytorch_env\\lib\\site-packages (from requests->torchvision) (3.10)\n",
      "Requirement already satisfied: urllib3<3,>=1.21.1 in c:\\users\\601-t\\.conda\\envs\\pytorch_env\\lib\\site-packages (from requests->torchvision) (2.0.7)\n",
      "Requirement already satisfied: certifi>=2017.4.17 in c:\\users\\601-t\\.conda\\envs\\pytorch_env\\lib\\site-packages (from requests->torchvision) (2024.8.30)\n",
      "Note: you may need to restart the kernel to use updated packages.\n"
     ]
    }
   ],
   "source": [
    "%pip install torch torchvision torchaudio --index-url https://download.pytorch.org/whl/cu118"
   ]
  },
  {
   "cell_type": "code",
   "execution_count": 2,
   "id": "6dc7060d",
   "metadata": {},
   "outputs": [
    {
     "name": "stdout",
     "output_type": "stream",
     "text": [
      "True\n",
      "NVIDIA GeForce RTX 3060 Ti\n"
     ]
    }
   ],
   "source": [
    "import torch\n",
    "print(torch.cuda.is_available())  # True가 출력되면 GPU 사용 가능\n",
    "print(torch.cuda.get_device_name(0))  # GPU 이름 (예: NVIDIA GeForce RTX 3060 Ti)"
   ]
  },
  {
   "cell_type": "code",
   "execution_count": 2,
   "id": "6360a8d4",
   "metadata": {},
   "outputs": [
    {
     "data": {
      "text/plain": [
       "tensor([1, 2, 3])"
      ]
     },
     "execution_count": 2,
     "metadata": {},
     "output_type": "execute_result"
    }
   ],
   "source": [
    "import torch\n",
    "torch.tensor([1,2,3])"
   ]
  },
  {
   "cell_type": "code",
   "execution_count": null,
   "id": "e344a18a",
   "metadata": {},
   "outputs": [],
   "source": []
  }
 ],
 "metadata": {
  "kernelspec": {
   "display_name": "pytorch_env",
   "language": "python",
   "name": "python3"
  },
  "language_info": {
   "codemirror_mode": {
    "name": "ipython",
    "version": 3
   },
   "file_extension": ".py",
   "mimetype": "text/x-python",
   "name": "python",
   "nbconvert_exporter": "python",
   "pygments_lexer": "ipython3",
   "version": "3.7.12"
  }
 },
 "nbformat": 4,
 "nbformat_minor": 5
}
