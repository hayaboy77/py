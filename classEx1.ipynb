{
 "cells": [
  {
   "cell_type": "code",
   "execution_count": 15,
   "id": "45ede78c",
   "metadata": {},
   "outputs": [],
   "source": [
    "class Car:\n",
    "    def roll(self):\n",
    "        print(\"차가 감\")"
   ]
  },
  {
   "cell_type": "code",
   "execution_count": 16,
   "id": "5d17656d",
   "metadata": {},
   "outputs": [],
   "source": [
    "my_car=Car()"
   ]
  },
  {
   "cell_type": "code",
   "execution_count": 17,
   "id": "65b39375",
   "metadata": {},
   "outputs": [
    {
     "name": "stdout",
     "output_type": "stream",
     "text": [
      "차가 감\n"
     ]
    }
   ],
   "source": [
    "my_car.roll()"
   ]
  },
  {
   "cell_type": "code",
   "execution_count": 18,
   "id": "77b3b6b7",
   "metadata": {},
   "outputs": [],
   "source": [
    "class Car:\n",
    "    def roll(self):\n",
    "        print(id(self))"
   ]
  },
  {
   "cell_type": "code",
   "execution_count": 19,
   "id": "755dfb8c",
   "metadata": {},
   "outputs": [],
   "source": [
    "my_car2=Car()"
   ]
  },
  {
   "cell_type": "code",
   "execution_count": 20,
   "id": "fc0beca5",
   "metadata": {},
   "outputs": [
    {
     "data": {
      "text/plain": [
       "3145091071152"
      ]
     },
     "execution_count": 20,
     "metadata": {},
     "output_type": "execute_result"
    }
   ],
   "source": [
    "id(my_car2)"
   ]
  },
  {
   "cell_type": "code",
   "execution_count": 21,
   "id": "0ac37a82",
   "metadata": {},
   "outputs": [
    {
     "name": "stdout",
     "output_type": "stream",
     "text": [
      "3145091071152\n"
     ]
    }
   ],
   "source": [
    "my_car2.roll()"
   ]
  },
  {
   "cell_type": "code",
   "execution_count": 22,
   "id": "c1a58548",
   "metadata": {},
   "outputs": [],
   "source": [
    "class Car:\n",
    "    def roll(self, model):\n",
    "        print(f'{model}이 굴러간다')"
   ]
  },
  {
   "cell_type": "code",
   "execution_count": 23,
   "id": "8530dcfa",
   "metadata": {},
   "outputs": [],
   "source": [
    "my_car3=Car()"
   ]
  },
  {
   "cell_type": "code",
   "execution_count": 24,
   "id": "b0f1c37f",
   "metadata": {},
   "outputs": [
    {
     "ename": "TypeError",
     "evalue": "Car.roll() missing 1 required positional argument: 'model'",
     "output_type": "error",
     "traceback": [
      "\u001b[1;31m---------------------------------------------------------------------------\u001b[0m",
      "\u001b[1;31mTypeError\u001b[0m                                 Traceback (most recent call last)",
      "Cell \u001b[1;32mIn[24], line 1\u001b[0m\n\u001b[1;32m----> 1\u001b[0m my_car3\u001b[38;5;241m.\u001b[39mroll()\n",
      "\u001b[1;31mTypeError\u001b[0m: Car.roll() missing 1 required positional argument: 'model'"
     ]
    }
   ],
   "source": [
    "my_car3.roll()"
   ]
  },
  {
   "cell_type": "code",
   "execution_count": 25,
   "id": "9400aa42",
   "metadata": {},
   "outputs": [
    {
     "name": "stdout",
     "output_type": "stream",
     "text": [
      "벤츠이 굴러간다\n"
     ]
    }
   ],
   "source": [
    "my_car3.roll('벤츠')"
   ]
  },
  {
   "cell_type": "code",
   "execution_count": 33,
   "id": "dc83a1a8",
   "metadata": {},
   "outputs": [],
   "source": [
    "class Car:\n",
    "    def __init__(self, color):\n",
    "       self.color=color"
   ]
  },
  {
   "cell_type": "code",
   "execution_count": 36,
   "id": "83945d0b",
   "metadata": {},
   "outputs": [],
   "source": [
    "my_car=Car('검정')"
   ]
  },
  {
   "cell_type": "code",
   "execution_count": 35,
   "id": "bc402a89",
   "metadata": {},
   "outputs": [
    {
     "data": {
      "text/plain": [
       "'검정'"
      ]
     },
     "execution_count": 35,
     "metadata": {},
     "output_type": "execute_result"
    }
   ],
   "source": [
    "my_car.color"
   ]
  },
  {
   "cell_type": "code",
   "execution_count": 37,
   "id": "2f7f9447",
   "metadata": {},
   "outputs": [],
   "source": [
    "my_car2=Car('흰 색')"
   ]
  },
  {
   "cell_type": "code",
   "execution_count": 38,
   "id": "ab3d1598",
   "metadata": {},
   "outputs": [
    {
     "data": {
      "text/plain": [
       "'흰 색'"
      ]
     },
     "execution_count": 38,
     "metadata": {},
     "output_type": "execute_result"
    }
   ],
   "source": [
    "my_car2.color"
   ]
  },
  {
   "cell_type": "code",
   "execution_count": 39,
   "id": "c8fcc1c7",
   "metadata": {},
   "outputs": [],
   "source": [
    "class Car:\n",
    "    def __init__(self, color):\n",
    "       self.color=color\n",
    "    def roll(self):\n",
    "        print(f'내 차의 색은 {self.color}이고 굴러감')"
   ]
  },
  {
   "cell_type": "code",
   "execution_count": 41,
   "id": "c3272d4d",
   "metadata": {},
   "outputs": [],
   "source": [
    "my_car5=Car('검정')"
   ]
  },
  {
   "cell_type": "code",
   "execution_count": 42,
   "id": "7875c380",
   "metadata": {},
   "outputs": [
    {
     "name": "stdout",
     "output_type": "stream",
     "text": [
      "내 차의 색은 검정이고 굴러감\n"
     ]
    }
   ],
   "source": [
    "my_car5.roll()"
   ]
  },
  {
   "cell_type": "code",
   "execution_count": 56,
   "id": "6d9bc27c",
   "metadata": {},
   "outputs": [],
   "source": [
    "# 클래스 관계\n",
    "\n",
    "# 1. 사용\n",
    "#  내(이름)가 BMW를 타고 가는 상황"
   ]
  },
  {
   "cell_type": "code",
   "execution_count": 52,
   "id": "2cefd026",
   "metadata": {},
   "outputs": [],
   "source": [
    "class Person:\n",
    "    def __init__(self, name):\n",
    "        self.name=name\n",
    "    def drive(self, model):\n",
    "        print(f'{self.name}가 {model}을 운전함')"
   ]
  },
  {
   "cell_type": "code",
   "execution_count": 53,
   "id": "633d7525",
   "metadata": {},
   "outputs": [],
   "source": [
    "me=Person('kds')"
   ]
  },
  {
   "cell_type": "code",
   "execution_count": 54,
   "id": "73142d4e",
   "metadata": {},
   "outputs": [
    {
     "data": {
      "text/plain": [
       "'kds'"
      ]
     },
     "execution_count": 54,
     "metadata": {},
     "output_type": "execute_result"
    }
   ],
   "source": [
    "me.name"
   ]
  },
  {
   "cell_type": "code",
   "execution_count": 55,
   "id": "a1c04570",
   "metadata": {},
   "outputs": [],
   "source": [
    "class Car:\n",
    "    def __init__(self, model):\n",
    "       self.model=model"
   ]
  },
  {
   "cell_type": "code",
   "execution_count": 57,
   "id": "ecdeb139",
   "metadata": {},
   "outputs": [],
   "source": [
    "my_model=Car('BMW')"
   ]
  },
  {
   "cell_type": "code",
   "execution_count": 58,
   "id": "b66c5e6d",
   "metadata": {},
   "outputs": [
    {
     "data": {
      "text/plain": [
       "'BMW'"
      ]
     },
     "execution_count": 58,
     "metadata": {},
     "output_type": "execute_result"
    }
   ],
   "source": [
    "my_model.model"
   ]
  },
  {
   "cell_type": "code",
   "execution_count": 60,
   "id": "6c581e29",
   "metadata": {},
   "outputs": [
    {
     "name": "stdout",
     "output_type": "stream",
     "text": [
      "kds가 BMW을 운전함\n"
     ]
    }
   ],
   "source": [
    "me.drive(my_model.model)"
   ]
  },
  {
   "cell_type": "code",
   "execution_count": 61,
   "id": "e3964287",
   "metadata": {},
   "outputs": [],
   "source": [
    "# 2. 포함\n",
    "#  차 안에 엔진을 포함한다."
   ]
  },
  {
   "cell_type": "code",
   "execution_count": 62,
   "id": "8d2512b0",
   "metadata": {},
   "outputs": [],
   "source": [
    "class Engine:\n",
    "    def start(self):\n",
    "        print(\"Engine started\")"
   ]
  },
  {
   "cell_type": "code",
   "execution_count": 66,
   "id": "56f464e6",
   "metadata": {},
   "outputs": [],
   "source": [
    "class Car:\n",
    "    def __init__(self):\n",
    "        self.engine=Engine()\n",
    "    def drive(self):\n",
    "        self.engine.start()\n",
    "        print(\"Car is driving\")"
   ]
  },
  {
   "cell_type": "code",
   "execution_count": 67,
   "id": "8714535f",
   "metadata": {},
   "outputs": [],
   "source": [
    "my_car = Car()"
   ]
  },
  {
   "cell_type": "code",
   "execution_count": 68,
   "id": "630f50da",
   "metadata": {},
   "outputs": [
    {
     "name": "stdout",
     "output_type": "stream",
     "text": [
      "Engine started\n",
      "Car is driving\n"
     ]
    }
   ],
   "source": [
    "my_car.drive()"
   ]
  },
  {
   "cell_type": "code",
   "execution_count": 69,
   "id": "42cefa38",
   "metadata": {},
   "outputs": [],
   "source": [
    "#  3.(부모가 가진 필드(변수), 메서드 상속\n",
    "#  차(부모) - 버스(자식)\n",
    "#  버스는 차다"
   ]
  },
  {
   "cell_type": "code",
   "execution_count": 71,
   "id": "2eaa8ebd",
   "metadata": {},
   "outputs": [],
   "source": [
    "class Bus(Car):\n",
    "    pass"
   ]
  },
  {
   "cell_type": "code",
   "execution_count": null,
   "id": "40fd8593",
   "metadata": {},
   "outputs": [
    {
     "data": {
      "text/plain": [
       "__main__.Bus"
      ]
     },
     "execution_count": 72,
     "metadata": {},
     "output_type": "execute_result"
    }
   ],
   "source": [
    "Bus"
   ]
  },
  {
   "cell_type": "code",
   "execution_count": 73,
   "id": "213f2437",
   "metadata": {},
   "outputs": [
    {
     "data": {
      "text/plain": [
       "type"
      ]
     },
     "execution_count": 73,
     "metadata": {},
     "output_type": "execute_result"
    }
   ],
   "source": [
    "type(Bus)"
   ]
  },
  {
   "cell_type": "code",
   "execution_count": 74,
   "id": "9c47e214",
   "metadata": {},
   "outputs": [],
   "source": [
    "bus=Bus()"
   ]
  },
  {
   "cell_type": "code",
   "execution_count": 76,
   "id": "7c9b7166",
   "metadata": {},
   "outputs": [
    {
     "data": {
      "text/plain": [
       "<__main__.Engine at 0x2dc462c7110>"
      ]
     },
     "execution_count": 76,
     "metadata": {},
     "output_type": "execute_result"
    }
   ],
   "source": [
    "bus.engine"
   ]
  },
  {
   "cell_type": "code",
   "execution_count": 77,
   "id": "72a1d450",
   "metadata": {},
   "outputs": [
    {
     "name": "stdout",
     "output_type": "stream",
     "text": [
      "Engine started\n"
     ]
    }
   ],
   "source": [
    "bus.engine.start()"
   ]
  },
  {
   "cell_type": "code",
   "execution_count": 78,
   "id": "8b5e69e6",
   "metadata": {},
   "outputs": [],
   "source": [
    "class Animal:\n",
    "    def speak(self):\n",
    "        raise NotImplementedError(\"Subclasses must implement this method\")"
   ]
  },
  {
   "cell_type": "code",
   "execution_count": 79,
   "id": "ca22e2d7",
   "metadata": {},
   "outputs": [],
   "source": [
    "class Dog(Animal):\n",
    "    pass"
   ]
  },
  {
   "cell_type": "code",
   "execution_count": 80,
   "id": "b678fb65",
   "metadata": {},
   "outputs": [],
   "source": [
    "chiwawa=Dog()"
   ]
  },
  {
   "cell_type": "code",
   "execution_count": 81,
   "id": "af918635",
   "metadata": {},
   "outputs": [
    {
     "ename": "NotImplementedError",
     "evalue": "Subclasses must implement this method",
     "output_type": "error",
     "traceback": [
      "\u001b[1;31m---------------------------------------------------------------------------\u001b[0m",
      "\u001b[1;31mNotImplementedError\u001b[0m                       Traceback (most recent call last)",
      "Cell \u001b[1;32mIn[81], line 1\u001b[0m\n\u001b[1;32m----> 1\u001b[0m chiwawa\u001b[38;5;241m.\u001b[39mspeak()\n",
      "Cell \u001b[1;32mIn[78], line 3\u001b[0m, in \u001b[0;36mAnimal.speak\u001b[1;34m(self)\u001b[0m\n\u001b[0;32m      2\u001b[0m \u001b[38;5;28;01mdef\u001b[39;00m\u001b[38;5;250m \u001b[39m\u001b[38;5;21mspeak\u001b[39m(\u001b[38;5;28mself\u001b[39m):\n\u001b[1;32m----> 3\u001b[0m     \u001b[38;5;28;01mraise\u001b[39;00m \u001b[38;5;167;01mNotImplementedError\u001b[39;00m(\u001b[38;5;124m\"\u001b[39m\u001b[38;5;124mSubclasses must implement this method\u001b[39m\u001b[38;5;124m\"\u001b[39m)\n",
      "\u001b[1;31mNotImplementedError\u001b[0m: Subclasses must implement this method"
     ]
    }
   ],
   "source": [
    "chiwawa.speak()"
   ]
  },
  {
   "cell_type": "code",
   "execution_count": 82,
   "id": "efb245d7",
   "metadata": {},
   "outputs": [],
   "source": [
    "class Dog(Animal):\n",
    "     def speak(self):\n",
    "          return \"멍멍\""
   ]
  },
  {
   "cell_type": "code",
   "execution_count": 83,
   "id": "cdcb159d",
   "metadata": {},
   "outputs": [],
   "source": [
    "chiwawa2=Dog()"
   ]
  },
  {
   "cell_type": "code",
   "execution_count": 84,
   "id": "c0deebaf",
   "metadata": {},
   "outputs": [
    {
     "data": {
      "text/plain": [
       "'멍멍'"
      ]
     },
     "execution_count": 84,
     "metadata": {},
     "output_type": "execute_result"
    }
   ],
   "source": [
    "chiwawa2.speak()"
   ]
  },
  {
   "cell_type": "code",
   "execution_count": 85,
   "id": "5743d0bd",
   "metadata": {},
   "outputs": [],
   "source": [
    "class Cat(Animal):\n",
    "    def speak(self):\n",
    "        return \"Meow!\""
   ]
  },
  {
   "cell_type": "code",
   "execution_count": 86,
   "id": "a2695e17",
   "metadata": {},
   "outputs": [
    {
     "data": {
      "text/plain": [
       "'Meow!'"
      ]
     },
     "execution_count": 86,
     "metadata": {},
     "output_type": "execute_result"
    }
   ],
   "source": [
    "cat = Cat()\n",
    "cat.speak()"
   ]
  },
  {
   "cell_type": "code",
   "execution_count": null,
   "id": "dc02887d",
   "metadata": {},
   "outputs": [],
   "source": []
  }
 ],
 "metadata": {
  "kernelspec": {
   "display_name": "base",
   "language": "python",
   "name": "python3"
  },
  "language_info": {
   "codemirror_mode": {
    "name": "ipython",
    "version": 3
   },
   "file_extension": ".py",
   "mimetype": "text/x-python",
   "name": "python",
   "nbconvert_exporter": "python",
   "pygments_lexer": "ipython3",
   "version": "3.13.5"
  }
 },
 "nbformat": 4,
 "nbformat_minor": 5
}
